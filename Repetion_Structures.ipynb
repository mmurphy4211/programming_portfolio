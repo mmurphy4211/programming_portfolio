{
 "cells": [
  {
   "cell_type": "code",
   "execution_count": 1,
   "id": "47df20b1-08c8-44e5-89f2-f463dfb1dfc1",
   "metadata": {},
   "outputs": [
    {
     "name": "stdout",
     "output_type": "stream",
     "text": [
      "Troy\n"
     ]
    }
   ],
   "source": [
    "#1\n",
    "name1= \"Zack\"\n",
    "name2= \"Troy\"\n",
    "if name1 < name2:\n",
    "     print(name1)\n",
    "else:\n",
    "      print(name2);"
   ]
  },
  {
   "cell_type": "code",
   "execution_count": 3,
   "id": "c6c53a05-07d5-4cf1-b603-90d8a0d9cb30",
   "metadata": {},
   "outputs": [
    {
     "name": "stdout",
     "output_type": "stream",
     "text": [
      "3\n"
     ]
    }
   ],
   "source": [
    "#2\n",
    "x= [28,3,45]\n",
    "\n",
    "print(min(x))"
   ]
  },
  {
   "cell_type": "code",
   "execution_count": 5,
   "id": "9c257739-c36e-4748-975e-427826c049ac",
   "metadata": {},
   "outputs": [
    {
     "name": "stdout",
     "output_type": "stream",
     "text": [
      "you are an adult, time to grow up\n"
     ]
    }
   ],
   "source": [
    "#3\n",
    "age=22\n",
    "\n",
    "if age < 13:\n",
    "\tprint(\"You are not a teenager yet\")\n",
    "elif age >= 13 and age < 20:\n",
    "\tprint(\"You are a teenager\")\n",
    "elif age >= 20:\n",
    "\tprint(\"you are an adult, time to grow up\");\n"
   ]
  },
  {
   "cell_type": "code",
   "execution_count": null,
   "id": "153b087e-1311-4a7b-9950-378c89db8845",
   "metadata": {},
   "outputs": [],
   "source": []
  }
 ],
 "metadata": {
  "kernelspec": {
   "display_name": "Python 3 (ipykernel)",
   "language": "python",
   "name": "python3"
  },
  "language_info": {
   "codemirror_mode": {
    "name": "ipython",
    "version": 3
   },
   "file_extension": ".py",
   "mimetype": "text/x-python",
   "name": "python",
   "nbconvert_exporter": "python",
   "pygments_lexer": "ipython3",
   "version": "3.12.4"
  }
 },
 "nbformat": 4,
 "nbformat_minor": 5
}
